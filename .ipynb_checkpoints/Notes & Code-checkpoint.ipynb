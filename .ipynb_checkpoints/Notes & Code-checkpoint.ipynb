{
 "cells": [
  {
   "cell_type": "markdown",
   "metadata": {
    "deletable": true,
    "editable": true
   },
   "source": [
    "### Example\n",
    "\n",
    "The following example demonstrates how to:\n",
    "\n",
    "- Import TensorFlow module\n",
    "- Create computational nodes\n",
    "- Perform an operation on the nodes (in this case arithmetic) \n",
    "- Creating a session\n",
    "- Running the computational graph to display the result"
   ]
  },
  {
   "cell_type": "code",
   "execution_count": 10,
   "metadata": {
    "collapsed": false,
    "deletable": true,
    "editable": true
   },
   "outputs": [
    {
     "name": "stdout",
     "output_type": "stream",
     "text": [
      "[ 2.  4.  6.  8.]\n"
     ]
    }
   ],
   "source": [
    "import tensorflow as tf\n",
    "\n",
    "a = tf.placeholder(tf.float32) # two\n",
    "b = tf.placeholder(tf.float32) # placeholders\n",
    "c = tf.add(a, b) # operational node\n",
    "feed_dict = {a: [1., 2., 3., 4.], b: [1., 2., 3., 4.]} # input values\n",
    "with tf.Session() as sess:\n",
    "    print(sess.run(c, feed_dict)) # run the computational graph"
   ]
  },
  {
   "cell_type": "markdown",
   "metadata": {
    "deletable": true,
    "editable": true
   },
   "source": [
    "### Perceptrons\n",
    "\n",
    "Developed in the 1950-1960s by [Frank Rosenblant](http://en.wikipedia.org/wiki/Frank_Rosenblatt) an artificial neuron works by taking $n$ input parameters $x_0, x_1,\\ldots, x_n$ and produce a single output $y$.\n",
    "\n",
    "Inspired by the biological neuron a perceptron behaves according to a similar principle. It analyzes an input in some way and decides whether to pass on a signal.\n",
    "\n",
    "Inputs are weighed and summed\n",
    "\n",
    "$$S=x_0w_0 + \\cdots + x_nw_n=\\sum_{i=0}^{n} x_iw_i=\\vec x \\cdot \\vec w$$\n",
    "\n",
    "In a perceptron decision is made by evaluating $S$ according to some threshold $c$\n",
    "\n",
    "$$S < c, y=0$$\n",
    "$$S \\ge c, y=1$$\n"
   ]
  },
  {
   "cell_type": "markdown",
   "metadata": {
    "deletable": true,
    "editable": true
   },
   "source": [
    "### Network Class\n",
    "\n",
    "Here we will create a new object called *Network* that we will use to represent networks.\n",
    "Each will have the following attributes:\n",
    "\n",
    "- number of layers\n",
    "- sizes\n",
    "- biases\n",
    "- weights\n",
    "\n",
    "The argument *sizes* that *Network* takes is a list type object indicating the size of the network in terms of number of layers and number of neurons in each layer. So for example:\n",
    "\n",
    "    sizes = [2, 3, 1]\n",
    "\n",
    "Indicates that the network has 3 layers: input, hidden and output. There are 2 **nodes** in the input layer, 3 **neurons** in the hidden layer and finally 1 **neuron** in the output layer."
   ]
  },
  {
   "cell_type": "code",
   "execution_count": 43,
   "metadata": {
    "collapsed": false,
    "deletable": true,
    "editable": true
   },
   "outputs": [
    {
     "name": "stdout",
     "output_type": "stream",
     "text": [
      "[array([[ 0.77184929,  1.56469883,  1.26187892,  1.53765421],\n",
      "       [-0.44443792, -0.60947307, -3.10541007,  0.20132641],\n",
      "       [ 1.38006177,  1.0052011 , -0.6547398 ,  0.51112194]]), array([[-1.01020657, -0.74632451,  1.00963169],\n",
      "       [-0.49068349, -0.9979827 ,  0.48329678],\n",
      "       [ 1.43596095,  1.0954255 , -2.86779693],\n",
      "       [-1.6666976 ,  1.04592087, -0.54476772]]), array([[-0.26926821, -0.68815147],\n",
      "       [ 1.51335389,  0.09996975],\n",
      "       [ 0.66919271, -1.3090133 ]]), array([[ 1.33373981],\n",
      "       [-0.29367646]])]\n"
     ]
    }
   ],
   "source": [
    "import numpy as np\n",
    "\n",
    "class Network(object):\n",
    "    \n",
    "    def __init__(self, sizes):\n",
    "        self.num_layers = len(sizes)\n",
    "        self.sizes = sizes\n",
    "        self.biases = [np.random.randn(i, 1) for i in sizes[1:]] # biases are not initialized for the 1st layer\n",
    "        self.weights = [np.random.randn(j, k) for j, k in zip(sizes[:-1], sizes[1:])]\n",
    "        \n",
    "net = Network([3, 4, 3, 2, 1])\n",
    "\n",
    "print(net.weights)"
   ]
  },
  {
   "cell_type": "markdown",
   "metadata": {},
   "source": [
    "The *net.biases* attribute is a list of vectors $i$ elements in each.\n",
    "\n",
    "To create the weights list where $w_{jk}$ element represents the connection weight of $j^{th}$ to $k^{th}$ neuron we first create a 4-element list of 2-tuples. These 2-tuples are formed from \"zipping\" together [3, 4, 3, 2] with [4, 3, 2, 1] into [(3, 4), (4, 3), (3, 2), (2, 1)]. We can now create a list of four $j \\times k$ matrices with randomly assigned weights.\n",
    "\n",
    "So, $3^{rd}$ element of the $2^{nd}$ row in the $2^{nd}$ list will represent the connection weight that the $2^{nd}$ neuron in the first hidden layer will have to the $3^{rd}$ neuron in the next layer."
   ]
  },
  {
   "cell_type": "code",
   "execution_count": 18,
   "metadata": {
    "collapsed": false,
    "deletable": true,
    "editable": true
   },
   "outputs": [],
   "source": [
    "def sigmoid(z):\n",
    "    f = 1. / (1. - np.exp(-z))\n",
    "    return f\n",
    "\n",
    "k = sigmoid(3.)"
   ]
  }
 ],
 "metadata": {
  "kernelspec": {
   "display_name": "Python 3",
   "language": "python",
   "name": "python3"
  },
  "language_info": {
   "codemirror_mode": {
    "name": "ipython",
    "version": 3
   },
   "file_extension": ".py",
   "mimetype": "text/x-python",
   "name": "python",
   "nbconvert_exporter": "python",
   "pygments_lexer": "ipython3",
   "version": "3.5.0"
  }
 },
 "nbformat": 4,
 "nbformat_minor": 2
}
