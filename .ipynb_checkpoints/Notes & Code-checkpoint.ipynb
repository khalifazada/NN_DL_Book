{
 "cells": [
  {
   "cell_type": "markdown",
   "metadata": {},
   "source": [
    "### Example\n",
    "\n",
    "The following example demonstrates how to:\n",
    "\n",
    "- Import TensorFlow module\n",
    "- Create computational nodes\n",
    "- Perform an operation (in this case arithmetic) on the nodes\n",
    "- Create a session\n",
    "- Run the session to display result"
   ]
  },
  {
   "cell_type": "code",
   "execution_count": 2,
   "metadata": {
    "collapsed": false
   },
   "outputs": [
    {
     "name": "stdout",
     "output_type": "stream",
     "text": [
      "[ 2.  4.  6.  8.]\n"
     ]
    }
   ],
   "source": [
    "import tensorflow as tf\n",
    "\n",
    "x = tf.placeholder(tf.float32) # value placeholder\n",
    "y = tf.placeholder(tf.float32)\n",
    "z = tf.add(x, y)\n",
    "feed_dict = {x: [1., 2., 3., 4.], y: [1., 2., 3., 4.]}\n",
    "\n",
    "with tf.Session() as sess:\n",
    "    print(sess.run(z, feed_dict))"
   ]
  }
 ],
 "metadata": {
  "kernelspec": {
   "display_name": "Python 3",
   "language": "python",
   "name": "python3"
  },
  "language_info": {
   "codemirror_mode": {
    "name": "ipython",
    "version": 3
   },
   "file_extension": ".py",
   "mimetype": "text/x-python",
   "name": "python",
   "nbconvert_exporter": "python",
   "pygments_lexer": "ipython3",
   "version": "3.5.0"
  }
 },
 "nbformat": 4,
 "nbformat_minor": 2
}
