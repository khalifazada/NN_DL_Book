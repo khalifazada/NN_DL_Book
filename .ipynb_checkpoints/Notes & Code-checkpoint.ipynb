{
 "cells": [
  {
   "cell_type": "markdown",
   "metadata": {},
   "source": [
    "### Example\n",
    "\n",
    "The following example demonstrates how to:\n",
    "\n",
    "- Import TensorFlow module\n",
    "- Create computational nodes\n",
    "- Perform an operation on the nodes (in this case arithmetic) \n",
    "- Creating a session\n",
    "- Running the computational graph to display the result"
   ]
  },
  {
   "cell_type": "code",
   "execution_count": 2,
   "metadata": {
    "collapsed": false
   },
   "outputs": [
    {
     "name": "stdout",
     "output_type": "stream",
     "text": [
      "[ 2.  4.  6.  8.]\n"
     ]
    }
   ],
   "source": [
    "import tensorflow as tf\n",
    "\n",
    "x = tf.placeholder(tf.float32) # two\n",
    "y = tf.placeholder(tf.float32) # placeholders\n",
    "z = tf.add(x, y) # operational node\n",
    "feed_dict = {x: [1., 2., 3., 4.], y: [1., 2., 3., 4.]} # input values\n",
    "with tf.Session() as sess:\n",
    "    print(sess.run(z, feed_dict)) # run the computational graph"
   ]
  },
  {
   "cell_type": "markdown",
   "metadata": {},
   "source": [
    "### Perceptrons\n",
    "\n",
    "Developed in the 1950-1960s by [Frank Rosenblant](http://en.wikipedia.org/wiki/Frank_Rosenblatt) an artificial neuron works by taking $n$ input parameters $x_0, x_1,\\ldots, x_n$ and produce a single output $y$.\n",
    "\n",
    "Inspired by the biological neuron a perceptron behaves according to a similar principle. It analyzes an input in some way and decides whether to pass on a signal.\n",
    "\n",
    "Inputs are weighed and summed\n",
    "\n",
    "$$S=x_0w_0 + \\cdots + x_nw_n=\\sum_{i=0}^{n} x_iw_i=\\vec x \\cdot \\vec w$$\n",
    "\n",
    "In a perceptron decision is made by evaluating $S$ according to some threshold $c$\n",
    "\n",
    "$$S < c, y=0$$\n",
    "$$S \\ge c, y=1$$\n"
   ]
  }
 ],
 "metadata": {
  "kernelspec": {
   "display_name": "Python 3",
   "language": "python",
   "name": "python3"
  },
  "language_info": {
   "codemirror_mode": {
    "name": "ipython",
    "version": 3
   },
   "file_extension": ".py",
   "mimetype": "text/x-python",
   "name": "python",
   "nbconvert_exporter": "python",
   "pygments_lexer": "ipython3",
   "version": "3.5.0"
  }
 },
 "nbformat": 4,
 "nbformat_minor": 2
}
