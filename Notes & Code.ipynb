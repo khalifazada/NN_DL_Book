{
 "cells": [
  {
   "cell_type": "markdown",
   "metadata": {},
   "source": [
    "### Example\n",
    "\n",
    "The following example demonstrates how to:\n",
    "\n",
    "- Import TensorFlow module\n",
    "- Create computational nodes\n",
    "- Perform an operation on the nodes (in this case arithmetic) \n",
    "- Creating a session\n",
    "- Running the computational graph to display the result"
   ]
  },
  {
   "cell_type": "code",
   "execution_count": 4,
   "metadata": {
    "collapsed": false
   },
   "outputs": [
    {
     "name": "stdout",
     "output_type": "stream",
     "text": [
      "[ 2.  4.  6.  8.]\n"
     ]
    }
   ],
   "source": [
    "import tensorflow as tf\n",
    "\n",
    "x = tf.placeholder(tf.float32) # two\n",
    "y = tf.placeholder(tf.float32) # placeholders\n",
    "z = tf.add(x, y) # operational node\n",
    "feed_dict = {x: [1., 2., 3., 4.], y: [1., 2., 3., 4.]} # input values\n",
    "with tf.Session() as sess:\n",
    "    print(sess.run(z, feed_dict)) # run the computational graph"
   ]
  },
  {
   "cell_type": "markdown",
   "metadata": {},
   "source": [
    "### Perceptrons\n",
    "\n",
    "Developed in the 1950-1960s by [Frank Rosenblant](http://en.wikipedia.org/wiki/Frank_Rosenblatt) an artificial neuron works by taking $n$ input parameters $x_0, x_1,\\ldots, x_n$ and produce a single output $y$.\n",
    "\n",
    "Inspired by the biological neuron a perceptron behaves according to a similar principle. It analyzes an input in some way and decides whether to pass on a signal.\n",
    "\n",
    "Inputs are weighed and summed\n",
    "\n",
    "$$S=x_0w_0 + \\cdots + x_nw_n=\\sum_{i=0}^{n} x_iw_i=\\vec x \\cdot \\vec w$$\n",
    "\n",
    "In a perceptron decision is made by evaluating $S$ according to some threshold $c$\n",
    "\n",
    "$$S < c, y=0$$\n",
    "$$S \\ge c, y=1$$\n"
   ]
  },
  {
   "cell_type": "markdown",
   "metadata": {},
   "source": [
    "### Network Class\n",
    "\n",
    "Here I will create a new object called *Network* that we will use to represent networks.\n",
    "Each will have the following attributes:\n",
    "\n",
    "- number of layers\n",
    "- sizes\n",
    "- biases\n",
    "- weights\n",
    "\n",
    "The argument *sizes* that *Network* takes is a list type object. So for example:\n",
    "\n",
    "    sizes = [2, 3, 1]\n",
    "\n",
    "Indicates that the network has 2 inputs nodes, 3 neurons in 1 hidden layer, and finally 1 cell in the output layer. "
   ]
  },
  {
   "cell_type": "code",
   "execution_count": 3,
   "metadata": {
    "collapsed": true
   },
   "outputs": [],
   "source": [
    "import numpy as np\n",
    "\n",
    "class Network(object):\n",
    "    \n",
    "    def __init__(self, sizes):\n",
    "        self.num_layers = len(sizes)\n",
    "        self.sizes = sizes\n",
    "        self.biases = [np.random.randn(y, 1) for y in sizes[1:]]\n",
    "        self.weights = [np.random.randn(x, y)\n",
    "                        for x, y in zip(sizes[:-1], sizes[1:])]"
   ]
  },
  {
   "cell_type": "code",
   "execution_count": 9,
   "metadata": {
    "collapsed": false
   },
   "outputs": [
    {
     "name": "stdout",
     "output_type": "stream",
     "text": [
      "<class '__main__.Network'>\n",
      "[10, 5, 1]\n",
      "[array([[ 0.98136909],\n",
      "       [ 1.10237814],\n",
      "       [-1.0898287 ],\n",
      "       [ 1.04879867],\n",
      "       [-0.32140737]]), array([[ 0.0607833]])]\n"
     ]
    }
   ],
   "source": [
    "net = Network([10, 5, 1])\n",
    "print(type(net))\n",
    "print(net.sizes)\n",
    "print(net.biases)"
   ]
  },
  {
   "cell_type": "code",
   "execution_count": null,
   "metadata": {
    "collapsed": true
   },
   "outputs": [],
   "source": []
  }
 ],
 "metadata": {
  "kernelspec": {
   "display_name": "Python 3",
   "language": "python",
   "name": "python3"
  },
  "language_info": {
   "codemirror_mode": {
    "name": "ipython",
    "version": 3
   },
   "file_extension": ".py",
   "mimetype": "text/x-python",
   "name": "python",
   "nbconvert_exporter": "python",
   "pygments_lexer": "ipython3",
   "version": "3.5.0"
  }
 },
 "nbformat": 4,
 "nbformat_minor": 2
}
